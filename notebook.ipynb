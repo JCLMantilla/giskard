{
 "cells": [
  {
   "cell_type": "code",
   "execution_count": 17,
   "outputs": [
    {
     "name": "stdout",
     "output_type": "stream",
     "text": [
      "INFO: imports ready!\n"
     ]
    }
   ],
   "source": [
    "import pandas as pd\n",
    "from sklearn import model_selection\n",
    "from sklearn.preprocessing import StandardScaler\n",
    "from sklearn.preprocessing import OneHotEncoder\n",
    "from sklearn.linear_model import LogisticRegression\n",
    "from sklearn.ensemble import RandomForestClassifier\n",
    "from sklearn.pipeline import Pipeline\n",
    "from sklearn.impute import SimpleImputer\n",
    "from sklearn.compose import ColumnTransformer\n",
    "print('INFO: imports ready!')"
   ],
   "metadata": {
    "collapsed": false,
    "pycharm": {
     "name": "#%%\n"
    }
   }
  },
  {
   "cell_type": "code",
   "execution_count": null,
   "outputs": [],
   "source": [
    "#!giskard worker start -d"
   ],
   "metadata": {
    "collapsed": false,
    "pycharm": {
     "name": "#%%\n"
    }
   }
  },
  {
   "cell_type": "code",
   "execution_count": 18,
   "outputs": [],
   "source": [
    "url = 'https://raw.githubusercontent.com/Giskard-AI/examples/main/datasets/credit_scoring_classification_model_dataset/german_credit_prepared.csv'\n",
    "credit = pd.read_csv(url, sep=',',engine=\"python\")"
   ],
   "metadata": {
    "collapsed": false,
    "pycharm": {
     "name": "#%%\n"
    }
   }
  },
  {
   "cell_type": "code",
   "execution_count": 19,
   "outputs": [],
   "source": [
    "# Declare the type of each column in the dataset(example: category, numeric, text)\n",
    "column_types = {'default':\"category\",\n",
    "               'account_check_status':\"category\",\n",
    "               'duration_in_month':\"numeric\",\n",
    "               'credit_history':\"category\",\n",
    "               'purpose':\"category\",\n",
    "               'credit_amount':\"numeric\",\n",
    "               'savings':\"category\",\n",
    "               'present_employment_since':\"category\",\n",
    "               'installment_as_income_perc':\"numeric\",\n",
    "               'sex':\"category\",\n",
    "               'personal_status':\"category\",\n",
    "               'other_debtors':\"category\",\n",
    "               'present_residence_since':\"numeric\",\n",
    "               'property':\"category\",\n",
    "               'age':\"numeric\",\n",
    "               'other_installment_plans':\"category\",\n",
    "               'housing':\"category\",\n",
    "               'credits_this_bank':\"numeric\",\n",
    "               'job':\"category\",\n",
    "               'people_under_maintenance':\"numeric\",\n",
    "               'telephone':\"category\",\n",
    "               'foreign_worker':\"category\"}"
   ],
   "metadata": {
    "collapsed": false,
    "pycharm": {
     "name": "#%%\n"
    }
   }
  },
  {
   "cell_type": "code",
   "execution_count": 26,
   "outputs": [],
   "source": [
    "# feature_types is used to declare the features the model is trained on\n",
    "feature_types = {i:column_types[i] for i in column_types if i!='default'}\n",
    "\n",
    "# Pipeline to fill missing values, transform and scale the numeric columns\n",
    "columns_to_scale = [key for key in feature_types.keys() if feature_types[key]==\"numeric\"]\n",
    "numeric_transformer = Pipeline([('imputer', SimpleImputer(strategy='median')),\n",
    "    ('scaler', StandardScaler())])\n",
    "\n",
    "# Pipeline to fill missing values and one hot encode the categorical values\n",
    "columns_to_encode = [key for key in feature_types.keys() if feature_types[key]==\"category\"]\n",
    "categorical_transformer = Pipeline([\n",
    "        ('imputer', SimpleImputer(strategy='constant', fill_value='missing')),\n",
    "        ('onehot', OneHotEncoder(handle_unknown='ignore',sparse_output=False)) ])\n",
    "\n",
    "# Perform preprocessing of the columns with the above pipelines\n",
    "preprocessor = ColumnTransformer(\n",
    "    transformers=[\n",
    "        ('num', numeric_transformer, columns_to_scale),\n",
    "      ('cat', categorical_transformer, columns_to_encode)\n",
    "          ]\n",
    ")\n",
    "\n",
    "# Pipeline for the model Logistic Regression\n",
    "clf_logistic_regression = Pipeline(steps=[('preprocessor', preprocessor),\n",
    "                      ('classifier', LogisticRegression(max_iter =1000))])\n",
    "\n",
    "# Split the data into train and test\n",
    "Y=credit['default']\n",
    "X= credit.drop(columns=\"default\")\n",
    "X_train, X_test, Y_train, Y_test = model_selection.train_test_split(X, Y, test_size=0.20,random_state = 30, stratify = Y)"
   ],
   "metadata": {
    "collapsed": false,
    "pycharm": {
     "name": "#%%\n"
    }
   }
  },
  {
   "cell_type": "code",
   "execution_count": 32,
   "outputs": [
    {
     "name": "stdout",
     "output_type": "stream",
     "text": [
      "Accuracy whe have to beat: 0.755%\n",
      "Model description\n"
     ]
    },
    {
     "data": {
      "text/plain": "Pipeline(steps=[('preprocessor',\n                 ColumnTransformer(transformers=[('num',\n                                                  Pipeline(steps=[('imputer',\n                                                                   SimpleImputer(strategy='median')),\n                                                                  ('scaler',\n                                                                   StandardScaler())]),\n                                                  ['duration_in_month',\n                                                   'credit_amount',\n                                                   'installment_as_income_perc',\n                                                   'present_residence_since',\n                                                   'age', 'credits_this_bank',\n                                                   'people_under_maintenance']),\n                                                 ('cat',\n                                                  Pipeline(steps=[('imputer',\n                                                                   SimpleI...\n                                                                                 strategy='constant')),\n                                                                  ('onehot',\n                                                                   OneHotEncoder(handle_unknown='ignore',\n                                                                                 sparse_output=False))]),\n                                                  ['account_check_status',\n                                                   'credit_history', 'purpose',\n                                                   'savings',\n                                                   'present_employment_since',\n                                                   'sex', 'personal_status',\n                                                   'other_debtors', 'property',\n                                                   'other_installment_plans',\n                                                   'housing', 'job',\n                                                   'telephone',\n                                                   'foreign_worker'])])),\n                ('classifier', LogisticRegression(max_iter=1000))])",
      "text/html": "<style>#sk-container-id-3 {color: black;background-color: white;}#sk-container-id-3 pre{padding: 0;}#sk-container-id-3 div.sk-toggleable {background-color: white;}#sk-container-id-3 label.sk-toggleable__label {cursor: pointer;display: block;width: 100%;margin-bottom: 0;padding: 0.3em;box-sizing: border-box;text-align: center;}#sk-container-id-3 label.sk-toggleable__label-arrow:before {content: \"▸\";float: left;margin-right: 0.25em;color: #696969;}#sk-container-id-3 label.sk-toggleable__label-arrow:hover:before {color: black;}#sk-container-id-3 div.sk-estimator:hover label.sk-toggleable__label-arrow:before {color: black;}#sk-container-id-3 div.sk-toggleable__content {max-height: 0;max-width: 0;overflow: hidden;text-align: left;background-color: #f0f8ff;}#sk-container-id-3 div.sk-toggleable__content pre {margin: 0.2em;color: black;border-radius: 0.25em;background-color: #f0f8ff;}#sk-container-id-3 input.sk-toggleable__control:checked~div.sk-toggleable__content {max-height: 200px;max-width: 100%;overflow: auto;}#sk-container-id-3 input.sk-toggleable__control:checked~label.sk-toggleable__label-arrow:before {content: \"▾\";}#sk-container-id-3 div.sk-estimator input.sk-toggleable__control:checked~label.sk-toggleable__label {background-color: #d4ebff;}#sk-container-id-3 div.sk-label input.sk-toggleable__control:checked~label.sk-toggleable__label {background-color: #d4ebff;}#sk-container-id-3 input.sk-hidden--visually {border: 0;clip: rect(1px 1px 1px 1px);clip: rect(1px, 1px, 1px, 1px);height: 1px;margin: -1px;overflow: hidden;padding: 0;position: absolute;width: 1px;}#sk-container-id-3 div.sk-estimator {font-family: monospace;background-color: #f0f8ff;border: 1px dotted black;border-radius: 0.25em;box-sizing: border-box;margin-bottom: 0.5em;}#sk-container-id-3 div.sk-estimator:hover {background-color: #d4ebff;}#sk-container-id-3 div.sk-parallel-item::after {content: \"\";width: 100%;border-bottom: 1px solid gray;flex-grow: 1;}#sk-container-id-3 div.sk-label:hover label.sk-toggleable__label {background-color: #d4ebff;}#sk-container-id-3 div.sk-serial::before {content: \"\";position: absolute;border-left: 1px solid gray;box-sizing: border-box;top: 0;bottom: 0;left: 50%;z-index: 0;}#sk-container-id-3 div.sk-serial {display: flex;flex-direction: column;align-items: center;background-color: white;padding-right: 0.2em;padding-left: 0.2em;position: relative;}#sk-container-id-3 div.sk-item {position: relative;z-index: 1;}#sk-container-id-3 div.sk-parallel {display: flex;align-items: stretch;justify-content: center;background-color: white;position: relative;}#sk-container-id-3 div.sk-item::before, #sk-container-id-3 div.sk-parallel-item::before {content: \"\";position: absolute;border-left: 1px solid gray;box-sizing: border-box;top: 0;bottom: 0;left: 50%;z-index: -1;}#sk-container-id-3 div.sk-parallel-item {display: flex;flex-direction: column;z-index: 1;position: relative;background-color: white;}#sk-container-id-3 div.sk-parallel-item:first-child::after {align-self: flex-end;width: 50%;}#sk-container-id-3 div.sk-parallel-item:last-child::after {align-self: flex-start;width: 50%;}#sk-container-id-3 div.sk-parallel-item:only-child::after {width: 0;}#sk-container-id-3 div.sk-dashed-wrapped {border: 1px dashed gray;margin: 0 0.4em 0.5em 0.4em;box-sizing: border-box;padding-bottom: 0.4em;background-color: white;}#sk-container-id-3 div.sk-label label {font-family: monospace;font-weight: bold;display: inline-block;line-height: 1.2em;}#sk-container-id-3 div.sk-label-container {text-align: center;}#sk-container-id-3 div.sk-container {/* jupyter's `normalize.less` sets `[hidden] { display: none; }` but bootstrap.min.css set `[hidden] { display: none !important; }` so we also need the `!important` here to be able to override the default hidden behavior on the sphinx rendered scikit-learn.org. See: https://github.com/scikit-learn/scikit-learn/issues/21755 */display: inline-block !important;position: relative;}#sk-container-id-3 div.sk-text-repr-fallback {display: none;}</style><div id=\"sk-container-id-3\" class=\"sk-top-container\"><div class=\"sk-text-repr-fallback\"><pre>Pipeline(steps=[(&#x27;preprocessor&#x27;,\n                 ColumnTransformer(transformers=[(&#x27;num&#x27;,\n                                                  Pipeline(steps=[(&#x27;imputer&#x27;,\n                                                                   SimpleImputer(strategy=&#x27;median&#x27;)),\n                                                                  (&#x27;scaler&#x27;,\n                                                                   StandardScaler())]),\n                                                  [&#x27;duration_in_month&#x27;,\n                                                   &#x27;credit_amount&#x27;,\n                                                   &#x27;installment_as_income_perc&#x27;,\n                                                   &#x27;present_residence_since&#x27;,\n                                                   &#x27;age&#x27;, &#x27;credits_this_bank&#x27;,\n                                                   &#x27;people_under_maintenance&#x27;]),\n                                                 (&#x27;cat&#x27;,\n                                                  Pipeline(steps=[(&#x27;imputer&#x27;,\n                                                                   SimpleI...\n                                                                                 strategy=&#x27;constant&#x27;)),\n                                                                  (&#x27;onehot&#x27;,\n                                                                   OneHotEncoder(handle_unknown=&#x27;ignore&#x27;,\n                                                                                 sparse_output=False))]),\n                                                  [&#x27;account_check_status&#x27;,\n                                                   &#x27;credit_history&#x27;, &#x27;purpose&#x27;,\n                                                   &#x27;savings&#x27;,\n                                                   &#x27;present_employment_since&#x27;,\n                                                   &#x27;sex&#x27;, &#x27;personal_status&#x27;,\n                                                   &#x27;other_debtors&#x27;, &#x27;property&#x27;,\n                                                   &#x27;other_installment_plans&#x27;,\n                                                   &#x27;housing&#x27;, &#x27;job&#x27;,\n                                                   &#x27;telephone&#x27;,\n                                                   &#x27;foreign_worker&#x27;])])),\n                (&#x27;classifier&#x27;, LogisticRegression(max_iter=1000))])</pre><b>In a Jupyter environment, please rerun this cell to show the HTML representation or trust the notebook. <br />On GitHub, the HTML representation is unable to render, please try loading this page with nbviewer.org.</b></div><div class=\"sk-container\" hidden><div class=\"sk-item sk-dashed-wrapped\"><div class=\"sk-label-container\"><div class=\"sk-label sk-toggleable\"><input class=\"sk-toggleable__control sk-hidden--visually\" id=\"sk-estimator-id-19\" type=\"checkbox\" ><label for=\"sk-estimator-id-19\" class=\"sk-toggleable__label sk-toggleable__label-arrow\">Pipeline</label><div class=\"sk-toggleable__content\"><pre>Pipeline(steps=[(&#x27;preprocessor&#x27;,\n                 ColumnTransformer(transformers=[(&#x27;num&#x27;,\n                                                  Pipeline(steps=[(&#x27;imputer&#x27;,\n                                                                   SimpleImputer(strategy=&#x27;median&#x27;)),\n                                                                  (&#x27;scaler&#x27;,\n                                                                   StandardScaler())]),\n                                                  [&#x27;duration_in_month&#x27;,\n                                                   &#x27;credit_amount&#x27;,\n                                                   &#x27;installment_as_income_perc&#x27;,\n                                                   &#x27;present_residence_since&#x27;,\n                                                   &#x27;age&#x27;, &#x27;credits_this_bank&#x27;,\n                                                   &#x27;people_under_maintenance&#x27;]),\n                                                 (&#x27;cat&#x27;,\n                                                  Pipeline(steps=[(&#x27;imputer&#x27;,\n                                                                   SimpleI...\n                                                                                 strategy=&#x27;constant&#x27;)),\n                                                                  (&#x27;onehot&#x27;,\n                                                                   OneHotEncoder(handle_unknown=&#x27;ignore&#x27;,\n                                                                                 sparse_output=False))]),\n                                                  [&#x27;account_check_status&#x27;,\n                                                   &#x27;credit_history&#x27;, &#x27;purpose&#x27;,\n                                                   &#x27;savings&#x27;,\n                                                   &#x27;present_employment_since&#x27;,\n                                                   &#x27;sex&#x27;, &#x27;personal_status&#x27;,\n                                                   &#x27;other_debtors&#x27;, &#x27;property&#x27;,\n                                                   &#x27;other_installment_plans&#x27;,\n                                                   &#x27;housing&#x27;, &#x27;job&#x27;,\n                                                   &#x27;telephone&#x27;,\n                                                   &#x27;foreign_worker&#x27;])])),\n                (&#x27;classifier&#x27;, LogisticRegression(max_iter=1000))])</pre></div></div></div><div class=\"sk-serial\"><div class=\"sk-item sk-dashed-wrapped\"><div class=\"sk-label-container\"><div class=\"sk-label sk-toggleable\"><input class=\"sk-toggleable__control sk-hidden--visually\" id=\"sk-estimator-id-20\" type=\"checkbox\" ><label for=\"sk-estimator-id-20\" class=\"sk-toggleable__label sk-toggleable__label-arrow\">preprocessor: ColumnTransformer</label><div class=\"sk-toggleable__content\"><pre>ColumnTransformer(transformers=[(&#x27;num&#x27;,\n                                 Pipeline(steps=[(&#x27;imputer&#x27;,\n                                                  SimpleImputer(strategy=&#x27;median&#x27;)),\n                                                 (&#x27;scaler&#x27;, StandardScaler())]),\n                                 [&#x27;duration_in_month&#x27;, &#x27;credit_amount&#x27;,\n                                  &#x27;installment_as_income_perc&#x27;,\n                                  &#x27;present_residence_since&#x27;, &#x27;age&#x27;,\n                                  &#x27;credits_this_bank&#x27;,\n                                  &#x27;people_under_maintenance&#x27;]),\n                                (&#x27;cat&#x27;,\n                                 Pipeline(steps=[(&#x27;imputer&#x27;,\n                                                  SimpleImputer(fill_value=&#x27;missing&#x27;,\n                                                                strategy=&#x27;constant&#x27;)),\n                                                 (&#x27;onehot&#x27;,\n                                                  OneHotEncoder(handle_unknown=&#x27;ignore&#x27;,\n                                                                sparse_output=False))]),\n                                 [&#x27;account_check_status&#x27;, &#x27;credit_history&#x27;,\n                                  &#x27;purpose&#x27;, &#x27;savings&#x27;,\n                                  &#x27;present_employment_since&#x27;, &#x27;sex&#x27;,\n                                  &#x27;personal_status&#x27;, &#x27;other_debtors&#x27;,\n                                  &#x27;property&#x27;, &#x27;other_installment_plans&#x27;,\n                                  &#x27;housing&#x27;, &#x27;job&#x27;, &#x27;telephone&#x27;,\n                                  &#x27;foreign_worker&#x27;])])</pre></div></div></div><div class=\"sk-parallel\"><div class=\"sk-parallel-item\"><div class=\"sk-item\"><div class=\"sk-label-container\"><div class=\"sk-label sk-toggleable\"><input class=\"sk-toggleable__control sk-hidden--visually\" id=\"sk-estimator-id-21\" type=\"checkbox\" ><label for=\"sk-estimator-id-21\" class=\"sk-toggleable__label sk-toggleable__label-arrow\">num</label><div class=\"sk-toggleable__content\"><pre>[&#x27;duration_in_month&#x27;, &#x27;credit_amount&#x27;, &#x27;installment_as_income_perc&#x27;, &#x27;present_residence_since&#x27;, &#x27;age&#x27;, &#x27;credits_this_bank&#x27;, &#x27;people_under_maintenance&#x27;]</pre></div></div></div><div class=\"sk-serial\"><div class=\"sk-item\"><div class=\"sk-serial\"><div class=\"sk-item\"><div class=\"sk-estimator sk-toggleable\"><input class=\"sk-toggleable__control sk-hidden--visually\" id=\"sk-estimator-id-22\" type=\"checkbox\" ><label for=\"sk-estimator-id-22\" class=\"sk-toggleable__label sk-toggleable__label-arrow\">SimpleImputer</label><div class=\"sk-toggleable__content\"><pre>SimpleImputer(strategy=&#x27;median&#x27;)</pre></div></div></div><div class=\"sk-item\"><div class=\"sk-estimator sk-toggleable\"><input class=\"sk-toggleable__control sk-hidden--visually\" id=\"sk-estimator-id-23\" type=\"checkbox\" ><label for=\"sk-estimator-id-23\" class=\"sk-toggleable__label sk-toggleable__label-arrow\">StandardScaler</label><div class=\"sk-toggleable__content\"><pre>StandardScaler()</pre></div></div></div></div></div></div></div></div><div class=\"sk-parallel-item\"><div class=\"sk-item\"><div class=\"sk-label-container\"><div class=\"sk-label sk-toggleable\"><input class=\"sk-toggleable__control sk-hidden--visually\" id=\"sk-estimator-id-24\" type=\"checkbox\" ><label for=\"sk-estimator-id-24\" class=\"sk-toggleable__label sk-toggleable__label-arrow\">cat</label><div class=\"sk-toggleable__content\"><pre>[&#x27;account_check_status&#x27;, &#x27;credit_history&#x27;, &#x27;purpose&#x27;, &#x27;savings&#x27;, &#x27;present_employment_since&#x27;, &#x27;sex&#x27;, &#x27;personal_status&#x27;, &#x27;other_debtors&#x27;, &#x27;property&#x27;, &#x27;other_installment_plans&#x27;, &#x27;housing&#x27;, &#x27;job&#x27;, &#x27;telephone&#x27;, &#x27;foreign_worker&#x27;]</pre></div></div></div><div class=\"sk-serial\"><div class=\"sk-item\"><div class=\"sk-serial\"><div class=\"sk-item\"><div class=\"sk-estimator sk-toggleable\"><input class=\"sk-toggleable__control sk-hidden--visually\" id=\"sk-estimator-id-25\" type=\"checkbox\" ><label for=\"sk-estimator-id-25\" class=\"sk-toggleable__label sk-toggleable__label-arrow\">SimpleImputer</label><div class=\"sk-toggleable__content\"><pre>SimpleImputer(fill_value=&#x27;missing&#x27;, strategy=&#x27;constant&#x27;)</pre></div></div></div><div class=\"sk-item\"><div class=\"sk-estimator sk-toggleable\"><input class=\"sk-toggleable__control sk-hidden--visually\" id=\"sk-estimator-id-26\" type=\"checkbox\" ><label for=\"sk-estimator-id-26\" class=\"sk-toggleable__label sk-toggleable__label-arrow\">OneHotEncoder</label><div class=\"sk-toggleable__content\"><pre>OneHotEncoder(handle_unknown=&#x27;ignore&#x27;, sparse_output=False)</pre></div></div></div></div></div></div></div></div></div></div><div class=\"sk-item\"><div class=\"sk-estimator sk-toggleable\"><input class=\"sk-toggleable__control sk-hidden--visually\" id=\"sk-estimator-id-27\" type=\"checkbox\" ><label for=\"sk-estimator-id-27\" class=\"sk-toggleable__label sk-toggleable__label-arrow\">LogisticRegression</label><div class=\"sk-toggleable__content\"><pre>LogisticRegression(max_iter=1000)</pre></div></div></div></div></div></div></div>"
     },
     "execution_count": 32,
     "metadata": {},
     "output_type": "execute_result"
    }
   ],
   "source": [
    "# Fit and score your model\n",
    "clf_logistic_regression.fit(X_train, Y_train)\n",
    "\n",
    "print(f\"Accuracy whe have to beat: {clf_logistic_regression.score(X_test, Y_test)}%\")\n",
    "print('Model description')\n",
    "clf_logistic_regression"
   ],
   "metadata": {
    "collapsed": false,
    "pycharm": {
     "name": "#%%\n"
    }
   }
  },
  {
   "cell_type": "markdown",
   "source": [
    "### Data exploration"
   ],
   "metadata": {
    "collapsed": false,
    "pycharm": {
     "name": "#%% md\n"
    }
   }
  },
  {
   "cell_type": "code",
   "execution_count": 45,
   "outputs": [
    {
     "name": "stdout",
     "output_type": "stream",
     "text": [
      "-----Details for column: \"default\"-----\n",
      "Not default    700\n",
      "Default        300\n",
      "Name: default, dtype: int64\n",
      "-----Details for column: \"account_check_status\"-----\n",
      "no checking account                                   394\n",
      "< 0 DM                                                274\n",
      "0 <= ... < 200 DM                                     269\n",
      ">= 200 DM / salary assignments for at least 1 year     63\n",
      "Name: account_check_status, dtype: int64\n",
      "-----Details for column: \"duration_in_month\"-----\n",
      "24    184\n",
      "12    179\n",
      "18    113\n",
      "36     83\n",
      "6      75\n",
      "15     64\n",
      "9      49\n",
      "48     48\n",
      "30     40\n",
      "21     30\n",
      "10     28\n",
      "60     13\n",
      "27     13\n",
      "42     11\n",
      "11      9\n",
      "20      8\n",
      "8       7\n",
      "4       6\n",
      "45      5\n",
      "7       5\n",
      "39      5\n",
      "14      4\n",
      "13      4\n",
      "33      3\n",
      "28      3\n",
      "54      2\n",
      "16      2\n",
      "22      2\n",
      "47      1\n",
      "5       1\n",
      "26      1\n",
      "72      1\n",
      "40      1\n",
      "Name: duration_in_month, dtype: int64\n",
      "-----Details for column: \"credit_history\"-----\n",
      "existing credits paid back duly till now                       530\n",
      "critical account/ other credits existing (not at this bank)    293\n",
      "delay in paying off in the past                                 88\n",
      "all credits at this bank paid back duly                         49\n",
      "no credits taken/ all credits paid back duly                    40\n",
      "Name: credit_history, dtype: int64\n",
      "-----Details for column: \"purpose\"-----\n",
      "domestic appliances             280\n",
      "car (new)                       234\n",
      "radio/television                181\n",
      "car (used)                      103\n",
      "business                         97\n",
      "(vacation - does not exist?)     50\n",
      "education                        22\n",
      "repairs                          12\n",
      "furniture/equipment              12\n",
      "retraining                        9\n",
      "Name: purpose, dtype: int64\n",
      "-----Details for column: \"credit_amount\"-----\n",
      "1478    3\n",
      "1262    3\n",
      "1258    3\n",
      "1275    3\n",
      "1393    3\n",
      "       ..\n",
      "1459    1\n",
      "882     1\n",
      "3758    1\n",
      "1136    1\n",
      "4576    1\n",
      "Name: credit_amount, Length: 921, dtype: int64\n",
      "-----Details for column: \"savings\"-----\n",
      "... < 100 DM                   603\n",
      "unknown/ no savings account    183\n",
      "100 <= ... < 500 DM            103\n",
      "500 <= ... < 1000 DM            63\n",
      ".. >= 1000 DM                   48\n",
      "Name: savings, dtype: int64\n",
      "-----Details for column: \"present_employment_since\"-----\n",
      "1 <= ... < 4 years    339\n",
      ".. >= 7 years         253\n",
      "4 <= ... < 7 years    174\n",
      "... < 1 year          172\n",
      "unemployed             62\n",
      "Name: present_employment_since, dtype: int64\n",
      "-----Details for column: \"installment_as_income_perc\"-----\n",
      "4    476\n",
      "2    231\n",
      "3    157\n",
      "1    136\n",
      "Name: installment_as_income_perc, dtype: int64\n",
      "-----Details for column: \"sex\"-----\n",
      "male      690\n",
      "female    310\n",
      "Name: sex, dtype: int64\n",
      "-----Details for column: \"personal_status\"-----\n",
      "single      548\n",
      "divorced    360\n",
      "married      92\n",
      "Name: personal_status, dtype: int64\n",
      "-----Details for column: \"other_debtors\"-----\n",
      "none            907\n",
      "guarantor        52\n",
      "co-applicant     41\n",
      "Name: other_debtors, dtype: int64\n",
      "-----Details for column: \"present_residence_since\"-----\n",
      "4    413\n",
      "2    308\n",
      "3    149\n",
      "1    130\n",
      "Name: present_residence_since, dtype: int64\n",
      "-----Details for column: \"property\"-----\n",
      "if not A121/A122 : car or other, not in attribute 6                 332\n",
      "real estate                                                         282\n",
      "if not A121 : building society savings agreement/ life insurance    232\n",
      "unknown / no property                                               154\n",
      "Name: property, dtype: int64\n",
      "-----Details for column: \"age\"-----\n",
      "27    51\n",
      "26    50\n",
      "23    48\n",
      "24    44\n",
      "28    43\n",
      "25    41\n",
      "30    40\n",
      "35    40\n",
      "36    39\n",
      "31    38\n",
      "29    37\n",
      "32    34\n",
      "33    33\n",
      "34    32\n",
      "37    29\n",
      "22    27\n",
      "40    25\n",
      "38    24\n",
      "42    22\n",
      "39    21\n",
      "46    18\n",
      "43    17\n",
      "47    17\n",
      "44    17\n",
      "41    17\n",
      "45    15\n",
      "20    14\n",
      "21    14\n",
      "49    14\n",
      "50    12\n",
      "48    12\n",
      "54    10\n",
      "57     9\n",
      "52     9\n",
      "51     8\n",
      "55     8\n",
      "63     8\n",
      "61     7\n",
      "53     7\n",
      "60     6\n",
      "65     5\n",
      "58     5\n",
      "64     5\n",
      "66     5\n",
      "74     4\n",
      "67     3\n",
      "68     3\n",
      "56     3\n",
      "59     3\n",
      "75     2\n",
      "19     2\n",
      "62     2\n",
      "70     1\n",
      "Name: age, dtype: int64\n",
      "-----Details for column: \"other_installment_plans\"-----\n",
      "none      814\n",
      "bank      139\n",
      "stores     47\n",
      "Name: other_installment_plans, dtype: int64\n",
      "-----Details for column: \"housing\"-----\n",
      "own         713\n",
      "rent        179\n",
      "for free    108\n",
      "Name: housing, dtype: int64\n",
      "-----Details for column: \"credits_this_bank\"-----\n",
      "1    633\n",
      "2    333\n",
      "3     28\n",
      "4      6\n",
      "Name: credits_this_bank, dtype: int64\n",
      "-----Details for column: \"job\"-----\n",
      "skilled employee / official                                      630\n",
      "unskilled - resident                                             200\n",
      "management/ self-employed/ highly qualified employee/ officer    148\n",
      "unemployed/ unskilled - non-resident                              22\n",
      "Name: job, dtype: int64\n",
      "-----Details for column: \"people_under_maintenance\"-----\n",
      "1    845\n",
      "2    155\n",
      "Name: people_under_maintenance, dtype: int64\n",
      "-----Details for column: \"telephone\"-----\n",
      "none                                        596\n",
      "yes, registered under the customers name    404\n",
      "Name: telephone, dtype: int64\n",
      "-----Details for column: \"foreign_worker\"-----\n",
      "yes    963\n",
      "no      37\n",
      "Name: foreign_worker, dtype: int64\n"
     ]
    }
   ],
   "source": [
    "for col in credit.columns:\n",
    "    print(f'-----Details for column: \"{col}\"-----')\n",
    "    print(credit[col].value_counts(sort=True, dropna = False))\n"
   ],
   "metadata": {
    "collapsed": false,
    "pycharm": {
     "name": "#%%\n"
    }
   }
  },
  {
   "cell_type": "markdown",
   "source": [
    "# Ideas!\n",
    "\n",
    "1) How do I find \"slices\" or groups of the dataset that \"underperform\" ----> investigate this first\n",
    "2) Use K-modes to cluster and focus on the over sampling techniques in certain clusters\n",
    "3) Use naive-bayes to fill the missing values\n",
    "4) Look at feature importance and correlation between features\n",
    "5) Feature augmentation?\n",
    "6) Look on \"how to see what features are the hardest to classify\" or the ones that are giving trouble to the model\n",
    "7) Correlation between missed/wrong detections and the features\n",
    "8) Do the oversampling using a fancy method from imbalanced learn"
   ],
   "metadata": {
    "collapsed": false,
    "pycharm": {
     "name": "#%% md\n"
    }
   }
  },
  {
   "cell_type": "code",
   "execution_count": 28,
   "outputs": [],
   "source": [],
   "metadata": {
    "collapsed": false,
    "pycharm": {
     "name": "#%%\n"
    }
   }
  },
  {
   "cell_type": "code",
   "execution_count": 28,
   "outputs": [],
   "source": [],
   "metadata": {
    "collapsed": false,
    "pycharm": {
     "name": "#%%\n"
    }
   }
  },
  {
   "cell_type": "code",
   "execution_count": null,
   "outputs": [],
   "source": [],
   "metadata": {
    "collapsed": false,
    "pycharm": {
     "name": "#%%\n"
    }
   }
  }
 ],
 "metadata": {
  "kernelspec": {
   "display_name": "Python 3",
   "language": "python",
   "name": "python3"
  },
  "language_info": {
   "codemirror_mode": {
    "name": "ipython",
    "version": 2
   },
   "file_extension": ".py",
   "mimetype": "text/x-python",
   "name": "python",
   "nbconvert_exporter": "python",
   "pygments_lexer": "ipython2",
   "version": "2.7.6"
  }
 },
 "nbformat": 4,
 "nbformat_minor": 0
}