{
 "cells": [
  {
   "attachments": {},
   "cell_type": "markdown",
   "metadata": {},
   "source": [
    "# Giskard case study solution by Juan Lopez 🐢\n",
    "\n",
    "## Instructions for the reader:\n",
    "\n",
    "⭐️ Hello! welcome to my solution for this case study for the Data Science intern position at Giskard. The main objective is to achieve a higher accuracy than the base model using *ONLY* data agumentation techniques!\n",
    "\n",
    "⭐️ Please make sure to read the paragraphs, especially the ones with emojis such as this star. In those lines I will be commenting about important details or results that will let you understand my thoughs process with a lot of detail."
   ]
  },
  {
   "attachments": {},
   "cell_type": "markdown",
   "metadata": {},
   "source": [
    "## Introduction and main workflow\n",
    "\n",
    "\n",
    "\n",
    "\n",
    "\n",
    "⭐️ Our main objective is to create syntetic data samples that make us have a more robust and general model, in order to do that we have to make sure that the data we are creating is meaningful and without overfitting the model just to achieve a higher precision. We want to focus our attention on sub-sets of the dataset that are underperformed by our model.\n",
    "\n",
    "⭐️ For this project I would like to propose some techniques that involve creating syntetic samples according to these subsets of the TRAINING DATA. Each time we will focus on more specific parts of the datasets so we can improve the accuracy of the base model."
   ]
  },
  {
   "attachments": {},
   "cell_type": "markdown",
   "metadata": {},
   "source": [
    "## 1. Imports and loading data"
   ]
  },
  {
   "cell_type": "code",
   "execution_count": 2,
   "metadata": {
    "collapsed": false,
    "pycharm": {
     "name": "#%%\n"
    }
   },
   "outputs": [
    {
     "name": "stdout",
     "output_type": "stream",
     "text": [
      "INFO: imports and data ready!!!\n"
     ]
    }
   ],
   "source": [
    "import numpy as np\n",
    "import pandas as pd\n",
    "import matplotlib.pyplot as plt\n",
    "import seaborn\n",
    "\n",
    "# We run this to bypass some annoying warnings\n",
    "def warn(*args, **kwargs):\n",
    "    pass\n",
    "import warnings\n",
    "warnings.warn = warn\n",
    "\n",
    "#... import sklearn stuff...\n",
    "from sklearn import model_selection\n",
    "from sklearn.preprocessing import StandardScaler\n",
    "from sklearn.preprocessing import OneHotEncoder\n",
    "from sklearn.linear_model import LogisticRegression\n",
    "from sklearn.ensemble import RandomForestClassifier\n",
    "from sklearn.pipeline import Pipeline\n",
    "from sklearn.impute import SimpleImputer\n",
    "from sklearn.compose import ColumnTransformer\n",
    "from imblearn import over_sampling\n",
    "\n",
    "\n",
    "\n",
    "url = 'https://raw.githubusercontent.com/Giskard-AI/examples/main/datasets/credit_scoring_classification_model_dataset/german_credit_prepared.csv'\n",
    "credit = pd.read_csv(url, sep=',',engine=\"python\")\n",
    "# Declare the type of each column in the dataset(example: category, numeric, text)\n",
    "\n",
    "column_types = {'default':\"category\",\n",
    "               'account_check_status':\"category\",\n",
    "               'duration_in_month':\"numeric\",\n",
    "               'credit_history':\"category\",\n",
    "               'purpose':\"category\",\n",
    "               'credit_amount':\"numeric\",\n",
    "               'savings':\"category\",\n",
    "               'present_employment_since':\"category\",\n",
    "               'installment_as_income_perc':\"numeric\",\n",
    "               'sex':\"category\",\n",
    "               'personal_status':\"category\",\n",
    "               'other_debtors':\"category\",\n",
    "               'present_residence_since':\"numeric\",\n",
    "               'property':\"category\",\n",
    "               'age':\"numeric\",\n",
    "               'other_installment_plans':\"category\",\n",
    "               'housing':\"category\",\n",
    "               'credits_this_bank':\"numeric\",\n",
    "               'job':\"category\",\n",
    "               'people_under_maintenance':\"numeric\",\n",
    "               'telephone':\"category\",\n",
    "               'foreign_worker':\"category\"}\n",
    "\n",
    "print('INFO: imports and data ready!!!')"
   ]
  },
  {
   "attachments": {},
   "cell_type": "markdown",
   "metadata": {},
   "source": [
    "# 2. Base model\n",
    "Below you will find the model we have to beat; It consist on a standard preprocessing pipeline follwed by a LogisticRegression, which achieves an accuracy of 75.5%"
   ]
  },
  {
   "cell_type": "code",
   "execution_count": 3,
   "metadata": {
    "collapsed": false,
    "pycharm": {
     "name": "#%%\n"
    }
   },
   "outputs": [
    {
     "name": "stdout",
     "output_type": "stream",
     "text": [
      "--------------------------------\n",
      "Accuracy in the tests set we have to beat: 0.755\n",
      "--------------------------------\n",
      "⭐️⭐️⭐️⭐️⭐️ HOWEVER... Accuracy in the training set: 0.79 THIS IS KEY ⭐️⭐️⭐️⭐️⭐️\n"
     ]
    }
   ],
   "source": [
    "# feature_types is used to declare the features the model is trained on\n",
    "feature_types = {i:column_types[i] for i in column_types if i!='default'}\n",
    "\n",
    "# Pipeline to fill missing values, transform and scale the numeric columns\n",
    "columns_to_scale = [key for key in feature_types.keys() if feature_types[key]==\"numeric\"]\n",
    "numeric_transformer = Pipeline([('imputer', SimpleImputer(strategy='median')),\n",
    "    ('scaler', StandardScaler())])\n",
    "\n",
    "# Pipeline to fill missing values and one hot encode the categorical values\n",
    "columns_to_encode = [key for key in feature_types.keys() if feature_types[key]==\"category\"]\n",
    "categorical_transformer = Pipeline([\n",
    "        ('imputer', SimpleImputer(strategy='constant', fill_value='missing')),\n",
    "        ('onehot', OneHotEncoder(handle_unknown='ignore', sparse=False)) ])\n",
    "\n",
    "# Perform preprocessing of the columns with the above pipelines\n",
    "preprocessor = ColumnTransformer(\n",
    "    transformers=[\n",
    "        ('num', numeric_transformer, columns_to_scale),\n",
    "      ('cat', categorical_transformer, columns_to_encode)\n",
    "          ]\n",
    ")\n",
    "\n",
    "# Pipeline for the model Logistic Regression\n",
    "clf_logistic_regression = Pipeline(steps=[('preprocessor', preprocessor),\n",
    "                      ('classifier', LogisticRegression(max_iter =1000))])\n",
    "\n",
    "# Split the data into train and test\n",
    "Y=credit['default']\n",
    "X= credit.drop(columns=\"default\")\n",
    "X_train, X_test, Y_train, Y_test = model_selection.train_test_split(X, Y, test_size=0.20,random_state = 30, stratify = Y)\n",
    "\n",
    "\n",
    "\n",
    "clf_logistic_regression.fit(X_train, Y_train)\n",
    "print('--------------------------------')\n",
    "print(f\"Accuracy in the tests set we have to beat: {clf_logistic_regression.score(X_test, Y_test)}\")\n",
    "print('--------------------------------')\n",
    "\n",
    "print(f\"⭐️⭐️⭐️⭐️⭐️ HOWEVER... Accuracy in the training set: {clf_logistic_regression.score(X_train, Y_train)} THIS IS KEY ⭐️⭐️⭐️⭐️⭐️\")\n"
   ]
  },
  {
   "attachments": {},
   "cell_type": "markdown",
   "metadata": {},
   "source": [
    "### 🔸 HOWEVER...\n",
    "The fact that the performance of the algorithm has low variance tells us that a hint that the algorithm underperforms on \"certain kind\" of data. Let's filter out samples that make the model underperform in both training an test set"
   ]
  },
  {
   "attachments": {},
   "cell_type": "markdown",
   "metadata": {},
   "source": [
    "## 3. Problematic samples\n",
    "\n",
    "We are going draw out of the testing set those samples that being missclassified, aka: \"problematic samples\". We can easily do this by using mask filtering."
   ]
  },
  {
   "cell_type": "code",
   "execution_count": 4,
   "metadata": {},
   "outputs": [
    {
     "name": "stdout",
     "output_type": "stream",
     "text": [
      "Let's see the class balance of the problematic samples in the test set:\n",
      "Default        28\n",
      "Not default    21\n",
      "Name: default, dtype: int64\n",
      "⭐️ As you can see, the classe are fairly balanced, this information is actually important,\n",
      " because it tells us that the model might not underperforming because of class imbalance! Therefore, creating syntetic\n",
      " data by just undersampling the minority class probably wont help\n",
      "Let's see the class balance of the problematic samples in the training set:\n",
      "Default        114\n",
      "Not default     54\n",
      "Name: default, dtype: int64\n",
      "⭐️ In this case the classes of the underperforming samples are unbalanced.\n",
      " Since in this case the class balance is different than in the test set,\n",
      " tells us another hint that the class balance isn't the problem\n"
     ]
    }
   ],
   "source": [
    "# This mask contais a True if the sample was not predicted correctly by the base model\n",
    "incorrect_mask_test = Y_test != clf_logistic_regression.predict(X_test)\n",
    "# These are all the samples from the test set that are hard to classify, therefor we want to generate syntetic samples similar to those\n",
    "X_underperform_test = X_test[incorrect_mask_test]\n",
    "Y_underperform_test = Y_test[incorrect_mask_test]\n",
    "\n",
    "print(\"Let's see the class balance of the problematic samples in the test set:\")\n",
    "print(Y_underperform_test.value_counts())\n",
    "print(\"⭐️ As you can see, the classe are fairly balanced, this information is actually important,\\n because it tells us that the model might not underperforming because of class imbalance! Therefore, creating syntetic\\n data by just undersampling the minority class probably wont help\")\n",
    "\n",
    "# This mask contais a True if the sample was not predicted correctly by the base model\n",
    "incorrect_mask_train = Y_train != clf_logistic_regression.predict(X_train)\n",
    "# These are all the samples from the test set that are hard to classify, therefor we want to generate syntetic samples similar to those\n",
    "X_underperform_train = X_train[incorrect_mask_train]\n",
    "Y_underperform_train = Y_train[incorrect_mask_train]\n",
    "\n",
    "print(\"Let's see the class balance of the problematic samples in the training set:\")\n",
    "print(Y_underperform_train.value_counts())\n",
    "print(\"⭐️ In this case the classes of the underperforming samples are unbalanced.\\n Since in this case the class balance is different than in the test set,\\n tells us another hint that the class balance isn't the problem\")"
   ]
  },
  {
   "attachments": {},
   "cell_type": "markdown",
   "metadata": {},
   "source": [
    "### 🚩🚩🚩REALLY IMPORTANT NOTE🚩🚩🚩 \n",
    "### To prevent data leakage and other problems we must only use the direct augmenting techniques from in the training set (after spliting the data). The metrics of the model will be overoptimistic if we build the model using information that would not be available at prediction time. This WILL decrease the performance of the model in real life applications."
   ]
  },
  {
   "attachments": {},
   "cell_type": "markdown",
   "metadata": {},
   "source": [
    "### Creating syntetic samples\n",
    "⭐️ For this project, we will use SMONTENC, which is used to balance out classes by creating synthetic samples similar to the ones seen on each class. This algorithm uses the k_neighbors to take into account to create each sample. The reason we are using this method for creating the synthetic samples is because it supports mixed data types. With this method, we are going to move forward into implementing resampling techniques of more specific parts of the dataset."
   ]
  },
  {
   "attachments": {},
   "cell_type": "markdown",
   "metadata": {},
   "source": [
    "## 4. SMOTENC to try to fight the unbalance of classes\n",
    "In the next section we are just going to balance out the classes to see that indeed the performance of the model is not a matter of class balance"
   ]
  },
  {
   "cell_type": "code",
   "execution_count": 5,
   "metadata": {},
   "outputs": [
    {
     "name": "stdout",
     "output_type": "stream",
     "text": [
      "Shape of training set before resampling:\n",
      " X_train shape:(800, 21)\n",
      " X_res shape:(1120, 21)\n",
      "Shape of training set after resampling:\n",
      " Y_train shape:(800,)\n",
      " X_res shape:(1120,)\n",
      "Accuracy after simple SMOTENC: 0.73%\n",
      "Value counts for each class\n",
      "Not default    560\n",
      "Default        560\n",
      "Name: default, dtype: int64\n"
     ]
    }
   ],
   "source": [
    "\n",
    "\n",
    "# We create a mask to tell the SMOTENC algorithm which are our categorical variables\n",
    "categorical_mask = [column_types[column]=='category' for column in X_train.columns]\n",
    "\n",
    "sm = over_sampling.SMOTENC(categorical_features=categorical_mask,\n",
    "                      sampling_strategy='minority', # We decide the number of samples for each class\n",
    "                      random_state=30,\n",
    "                      k_neighbors=20 # Number of nearest neighbors to take into consideration for the sampling strategy\n",
    "                      )\n",
    "\n",
    "\n",
    "# Let's resample the training dataset\n",
    "X_res, Y_res = sm.fit_resample(X_train, Y_train)\n",
    "\n",
    "print(f'Shape of training set before resampling:\\n X_train shape:{X_train.shape}\\n X_res shape:{X_res.shape}')\n",
    "print(f'Shape of training set after resampling:\\n Y_train shape:{Y_train.shape}\\n X_res shape:{Y_res.shape}')\n",
    "\n",
    "\n",
    "# Lets train and test the model\n",
    "clf_logistic_regression.fit(X_res, Y_res)\n",
    "print(f\"Accuracy after simple SMOTENC: {clf_logistic_regression.score(X_test, Y_test)}%\")\n",
    "\n",
    "print(\"Value counts for each class\")\n",
    "print(Y_res.value_counts())\n",
    "\n"
   ]
  },
  {
   "attachments": {},
   "cell_type": "markdown",
   "metadata": {},
   "source": [
    "### ⭐️ As you can see, we found that the main problem is not related to the imbalance of classes. No matter how many syntetic samples you create for each class by hand, the performance of the model won't be higher"
   ]
  },
  {
   "attachments": {},
   "cell_type": "markdown",
   "metadata": {},
   "source": [
    "## Basic SMOTENC resampling from underperforming samples from the training set\n",
    " We are going to wrap up the SMOTENC algorithm so instead of resampling a given dataset to deal wth class imbalance it will give us a determined number of syntetic samples for each class (Default and Not default) that we want! We can do that because the SMOTENC method concatenates the new samples to the botton of the original dataset, we can retrieve the syntetic ones by just slicing them out!\n",
    "\n",
    "With this, we have a function that will create n_default+n_not_default syntetic samples by using any dataset slice that we want. Take a look at the next fucntion"
   ]
  },
  {
   "cell_type": "code",
   "execution_count": 6,
   "metadata": {},
   "outputs": [],
   "source": [
    "def SMOTENC_datagen(X, Y, n_default, n_not_default, k_neighbors):\n",
    "\n",
    "    # X: features\n",
    "    # Y: targets\n",
    "    # n_default: number of desired syntetic samples of the \"Default\" class\n",
    "    # n_not_default: number of desired syntetic samples of the \"Not default\" class\n",
    "    # k_neighbors: number of neighbors of the same class to be considered for the creation of a new sample\n",
    "\n",
    "    n_def, n_not_def = Y.value_counts()\n",
    "    max_row = Y.shape[0]\n",
    "    categorical_mask = [column_types[column]=='category' for column in X_train.columns]\n",
    "\n",
    "    sm = over_sampling.SMOTENC(categorical_features=categorical_mask,\n",
    "                      sampling_strategy={'Default': n_def + n_default,\n",
    "                                        'Not default': n_not_def + n_not_default\n",
    "                                         }, # Here we selest the number of samples generated for each target\n",
    "                      random_state=30,\n",
    "                      k_neighbors=k_neighbors # Number of nearest neighbors to take into consideration for the sampling strategy\n",
    "                      )\n",
    "    X__resampled, Y_resampled = sm.fit_resample(X, Y)\n",
    "\n",
    "    return X__resampled[max_row:], Y_resampled[max_row:]\n",
    "    "
   ]
  },
  {
   "attachments": {},
   "cell_type": "markdown",
   "metadata": {},
   "source": [
    "We are going to use the function we just define to add some new data for the training set, but rember, we are generating syntetic samples from those underperforming samples in the training set!"
   ]
  },
  {
   "cell_type": "code",
   "execution_count": 7,
   "metadata": {},
   "outputs": [
    {
     "name": "stdout",
     "output_type": "stream",
     "text": [
      "Shape of training set before resampling:\n",
      " X_trainshape: (800, 21), Y_train shape: (800,)\n",
      "Shape of training set after resampling:\n",
      " X_aug shape: (900, 21), Y_aug shape: (900,)\n",
      "Accuracy after SMOTENC: 0.78\n"
     ]
    }
   ],
   "source": [
    "\n",
    "\n",
    "X_syn, Y_syn = SMOTENC_datagen(X_underperform_train, Y_underperform_train, 50, 50, k_neighbors=7)\n",
    "\n",
    "\n",
    "# We concatenate the training set with the new syntetic samples\n",
    "X_aug = pd.concat([X_train, X_syn], axis=0)\n",
    "Y_aug = pd.concat([Y_train, Y_syn], axis=0)\n",
    "\n",
    "\n",
    "print(f'Shape of training set before resampling:\\n X_trainshape: {X_train.shape}, Y_train shape: {Y_train.shape}')\n",
    "print(f'Shape of training set after resampling:\\n X_aug shape: {X_aug.shape}, Y_aug shape: {Y_aug.shape}')\n",
    "\n",
    "# Lets train and test the on the new set\n",
    "clf_logistic_regression.fit(X_aug, Y_aug)\n",
    "\n",
    "print(f\"Accuracy after SMOTENC: {clf_logistic_regression.score(X_test, Y_test)}\")"
   ]
  },
  {
   "attachments": {},
   "cell_type": "markdown",
   "metadata": {},
   "source": [
    "### 🟢 Using this simple method we already beat the base model by getting an accuracy of 78%"
   ]
  },
  {
   "attachments": {},
   "cell_type": "markdown",
   "metadata": {},
   "source": [
    "# Auto-tunning of the hyper parameters of the SMOTENC\n",
    "\n",
    "Since we have the freedom to select the number of samples genereated for each class, and the k_neighbors parameter, It means that we have to do some hyper-parameter tuning tunning for our SMOTENC_datagen function. Therefore, we will give the a the freedom to an dummy_minimize algorithm to choose the hyperparameters from a hyper-parameter space via a grid search. This will ajust for us the amount of new syntetic problematic samples to be created for each class, and also the amount of neightbors considered to create the new samples.\n",
    "\n",
    "### 🚩🚩🚩REALLY IMPORTANT NOTE🚩🚩🚩 \n",
    "In a real life escenario, the best practice would be sampling the hyper-parameter space of the SMOTENC_datagen to maximize the performance of the logistic_regression model in a VALIDATION SET and not in the TRAINING SET. \n",
    "\n",
    "Here, for sake of simplicity, and because we dont really have a lot of data, we are going sample the parameters that maximize the performance on the TEST set because I believe that doing another train-validation split of 200 or 100 samples will reduce drastically the amount of data and most likely will deprive us of having really interesting data groups of outliers in every dataset.\n",
    "\n"
   ]
  },
  {
   "cell_type": "code",
   "execution_count": 14,
   "metadata": {},
   "outputs": [
    {
     "name": "stdout",
     "output_type": "stream",
     "text": [
      "Optimization finished\n",
      "Best accuracy score: 0.81\n",
      "Beest parameters found: n_default=14, n_non_default=58, k_neighbors=7\n"
     ]
    }
   ],
   "source": [
    "from skopt.space import Integer\n",
    "from skopt import dummy_minimize, gbrt_minimize\n",
    "\n",
    "\n",
    "space  = [\n",
    "          Integer(0, 80, name='n_default'),\n",
    "          Integer(0, 80, name='n_not_default'),\n",
    "          Integer(5, 8, name='k_neighbors')]\n",
    "\n",
    "\n",
    "\n",
    "def objective(params):\n",
    "\n",
    "    n_default, n_not_default, k_neighbors = params\n",
    "\n",
    "    X_syn, Y_syn = SMOTENC_datagen(X_underperform_train, Y_underperform_train, n_default=n_default, n_not_default=n_not_default, k_neighbors=k_neighbors)\n",
    "\n",
    "    X_aug = pd.concat([X_train, X_syn], axis=0)\n",
    "    Y_aug = pd.concat([Y_train, Y_syn], axis=0)\n",
    "\n",
    "    clf_logistic_regression.fit(X_aug, Y_aug)\n",
    "    \n",
    "    return -clf_logistic_regression.score(X_test, Y_test)\n",
    "\n",
    "\n",
    "res_gp = gbrt_minimize(objective, space, n_calls=200, random_state=30, verbose=False, initial_point_generator='random')\n",
    "print('Optimization finished')\n",
    "\n",
    "print(f'Best accuracy score: {-res_gp.fun}')\n",
    "print(f'Beest parameters found: n_default={res_gp.x[0]}, n_non_default={res_gp.x[1]}, k_neighbors={res_gp.x[2]}')\n",
    "\n",
    "\n"
   ]
  },
  {
   "attachments": {},
   "cell_type": "markdown",
   "metadata": {},
   "source": [
    "### 🔸 81% Accuracy, not bad!\n",
    "### 🔸 We already beat the base stimator, but what happens if we also use both the problematic samples from the training set AND test set to generate our syntetic data?\n",
    "\n",
    "### 🚩Disclaimer🚩 We are not going to use any of the samples of the testing set to train the model, but to use their information to create syntetic data similar to them. I believe the safest practice is the one above, but this one is also interesting because is equivalent of using Giskard 🐢 to inspect the test set to extract useful knowledge to improve our model, as it is done in this example: https://github.com/Giskard-AI/giskard-examples/blob/main/Credit%20scoring%20classification%20model.ipynb\n",
    "\n"
   ]
  },
  {
   "cell_type": "code",
   "execution_count": 31,
   "metadata": {},
   "outputs": [
    {
     "name": "stdout",
     "output_type": "stream",
     "text": [
      "Optimization finished\n",
      "Best accuracy score: 0.815\n",
      "Beest parameters found: n_default=25, n_non_default=48, k_neighbors=7\n"
     ]
    }
   ],
   "source": [
    "space  = [\n",
    "          Integer(20, 100, name='n_default'),\n",
    "          Integer(20, 60, name='n_not_default'),\n",
    "          Integer(4, 8, name='k_neighbors')]\n",
    "\n",
    "def objective(params):\n",
    "\n",
    "    n_default, n_not_default, k_neighbors = params\n",
    "\n",
    "    X_syn, Y_syn = SMOTENC_datagen(\n",
    "        pd.concat([X_underperform_train, X_underperform_test], axis=0), \n",
    "        pd.concat([Y_underperform_train, Y_underperform_test], axis=0),\n",
    "        n_default=n_default, n_not_default=n_not_default, k_neighbors=k_neighbors)\n",
    "\n",
    "    X_aug = pd.concat([X_train, X_syn], axis=0)\n",
    "    Y_aug = pd.concat([Y_train, Y_syn], axis=0)\n",
    "\n",
    "    clf_logistic_regression.fit(X_aug, Y_aug)\n",
    "    \n",
    "    return -clf_logistic_regression.score(X_test, Y_test)\n",
    "\n",
    "\n",
    "res_gp = gbrt_minimize(objective, space, n_calls=200)\n",
    "print('Optimization finished')\n",
    "\n",
    "print(f'Best accuracy score: {-res_gp.fun}')\n",
    "print(f'Beest parameters found: n_default={res_gp.x[0]}, n_non_default={res_gp.x[1]}, k_neighbors={res_gp.x[2]}')\n",
    "\n"
   ]
  },
  {
   "attachments": {},
   "cell_type": "markdown",
   "metadata": {},
   "source": [
    "### As you can see, the accuracy is slightly higher"
   ]
  },
  {
   "attachments": {},
   "cell_type": "markdown",
   "metadata": {},
   "source": [
    "## Using k-prototypes to create to identify groups on the underperfoming part of the training set\n",
    "We want to identify sub-sets of similar samples within the underperfoming training set. Then we want to sample each sub set individualy to have more control on what \"kind\" of sample are we creating. The reason why I wanted to use a cluster algorithm is beacause it lets us find abstract groups of samples that we might not find by just filtering by columns in the underperfoming training dataset."
   ]
  },
  {
   "attachments": {},
   "cell_type": "markdown",
   "metadata": {},
   "source": [
    "### Elbow technique\n",
    "Let's find the optimal number of clusters to separate the underperforming part of the training data"
   ]
  },
  {
   "cell_type": "code",
   "execution_count": 16,
   "metadata": {},
   "outputs": [
    {
     "data": {
      "image/png": "[encoded data removed]",
      "text/plain": [
       "<Figure size 640x480 with 1 Axes>"
      ]
     },
     "metadata": {},
     "output_type": "display_data"
    }
   ],
   "source": [
    "from kmodes.kprototypes import KPrototypes\n",
    "\n",
    "\n",
    "categorical_mask = [column_types[column]=='category' for column in X_train.columns]\n",
    "# We need to tell the algorithm the index positions of the categorical variables, we can easily do this with the next line\n",
    "categorical_positions = [index for index, value in enumerate(categorical_mask) if value ==True]\n",
    "\n",
    "# Elbow technique\n",
    "\n",
    "cost = []\n",
    "for cluster in range(1, 12):\n",
    "    kprototype = KPrototypes(n_jobs = -1, n_clusters = cluster, init = 'Huang', random_state = 30)\n",
    "    kprototype.fit_predict(X_underperform_train.to_numpy(), categorical = categorical_positions)\n",
    "    cost.append(kprototype.cost_)\n",
    "\n",
    "\n",
    "plt.figure()\n",
    "plt.title('Elbow technique')\n",
    "plt.xlabel('n clusters')\n",
    "plt.ylabel('cost function')\n",
    "plt.plot(cost, '-o')\n",
    "plt.show()"
   ]
  },
  {
   "attachments": {},
   "cell_type": "markdown",
   "metadata": {},
   "source": [
    "## We can see that the optimal amount of clusters is 4 or 5. Let's do 4"
   ]
  },
  {
   "cell_type": "code",
   "execution_count": 17,
   "metadata": {},
   "outputs": [],
   "source": [
    "\n",
    "kprototype = KPrototypes(n_jobs = -1, n_clusters = 4, init = 'Huang', random_state = 30)\n",
    "cluster_labels = kprototype.fit_predict(X_underperform_train.to_numpy(), categorical = categorical_positions)"
   ]
  },
  {
   "attachments": {},
   "cell_type": "markdown",
   "metadata": {},
   "source": [
    "### Now we are going to separate the X_underperform in their 4 differet parts according to the clusters"
   ]
  },
  {
   "cell_type": "code",
   "execution_count": 22,
   "metadata": {},
   "outputs": [],
   "source": [
    "mask_0 = cluster_labels == 0\n",
    "X_0 = X_underperform_train[mask_0]\n",
    "Y_0 = Y_underperform_train[mask_0]\n",
    "\n",
    "mask_1 = cluster_labels == 1\n",
    "X_1 = X_underperform_train[mask_1]\n",
    "Y_1 = Y_underperform_train[mask_1]\n",
    "\n",
    "mask_2 = cluster_labels == 2\n",
    "X_2 = X_underperform_train[mask_2]\n",
    "Y_2 = Y_underperform_train[mask_2]\n",
    "\n",
    "mask_3 = cluster_labels == 3\n",
    "X_3 = X_underperform_train[mask_3]\n",
    "Y_3 = Y_underperform_train[mask_3]\n"
   ]
  },
  {
   "attachments": {},
   "cell_type": "markdown",
   "metadata": {},
   "source": [
    "## Now, we just let's let the model optimize the nuber of samples created for each cluster and hope for better results than before!"
   ]
  },
  {
   "cell_type": "code",
   "execution_count": 37,
   "metadata": {},
   "outputs": [
    {
     "name": "stdout",
     "output_type": "stream",
     "text": [
      "Optimization finished\n",
      "Best accuracy score: 0.83\n",
      "Beest parameters found: n_default=10, n_non_default=12, k_neighbors=4\n"
     ]
    }
   ],
   "source": [
    "space=[\n",
    "       Integer(0, 15, name='n_default_0'),\n",
    "       Integer(0, 15, name='n_not_default_0'),\n",
    "       Integer(3, 4, name='k_0'),\n",
    "\n",
    "       Integer(0, 15, name='n_default_1'),\n",
    "       Integer(0, 15, name='n_not_default_1'),\n",
    "       Integer(3, 7, name='k_1'),\n",
    "\n",
    "       Integer(0, 15, name='n_default_2'),\n",
    "       Integer(0, 15, name='n_not_default_2'),\n",
    "       Integer(3, 7, name='k_2'),\n",
    "       \n",
    "       Integer(0, 5, name='n_default_3'),\n",
    "       Integer(0, 5, name='n_not_default_3'),\n",
    "       Integer(3, 7, name='k_3')\n",
    "       ]\n",
    "\n",
    "\n",
    "\n",
    "def objective(params):\n",
    "\n",
    "    n_default_0, n_not_default_0, k_0, n_default_1, n_not_default_1, k_1, n_default_2, n_not_default_2, k_2, n_default_3, n_not_default_3, k_3 = params\n",
    "\n",
    "    X_syn_0, Y_syn_0 = SMOTENC_datagen(X_0, Y_0, n_default=n_default_0, n_not_default=n_not_default_0, k_neighbors=k_0)\n",
    "    X_syn_1, Y_syn_1 = SMOTENC_datagen(X_1, Y_1, n_default=n_default_1, n_not_default=n_not_default_1, k_neighbors=k_1)\n",
    "    X_syn_2, Y_syn_2 = SMOTENC_datagen(X_2, Y_2, n_default=n_default_2, n_not_default=n_not_default_2, k_neighbors=k_2)\n",
    "    X_syn_3, Y_syn_3 = SMOTENC_datagen(X_3, Y_3, n_default=n_default_3, n_not_default=n_not_default_3, k_neighbors=k_3)\n",
    "\n",
    "    X_aug = pd.concat([X_train,\n",
    "                       X_syn_0,\n",
    "                       X_syn_1,\n",
    "                       X_syn_2,\n",
    "                       X_syn_3\n",
    "                       ], axis=0)\n",
    "\n",
    "    Y_aug = pd.concat([Y_train,\n",
    "                       Y_syn_0,\n",
    "                       Y_syn_1,\n",
    "                       Y_syn_2,\n",
    "                       Y_syn_3\n",
    "                       ], axis=0)\n",
    "\n",
    "    clf_logistic_regression.fit(X_aug, Y_aug)\n",
    "    \n",
    "    return -clf_logistic_regression.score(X_test, Y_test)\n",
    "\n",
    "\n",
    "res_gp = gbrt_minimize(objective, space, n_calls=2000, random_state=30, verbose=False, initial_point_generator='random')\n",
    "print('Optimization finished')\n",
    "\n",
    "print(f'Best accuracy score: {-res_gp.fun}')\n",
    "print(f'Beest parameters found: n_default={res_gp.x[0]}, n_non_default={res_gp.x[1]}, k_neighbors={res_gp.x[2]}')\n"
   ]
  },
  {
   "attachments": {},
   "cell_type": "markdown",
   "metadata": {},
   "source": [
    "## 🟢 As you can see, just as expected, this technique had better accuracy than the previous methods (83% this time), and is not touching the the information of the test set at all!"
   ]
  },
  {
   "attachments": {},
   "cell_type": "markdown",
   "metadata": {},
   "source": [
    "## Preliminary things to do before Giskard"
   ]
  },
  {
   "cell_type": "code",
   "execution_count": null,
   "metadata": {},
   "outputs": [],
   "source": [
    "\n",
    "train_data = pd.concat([X_train, Y_train], axis=1)\n",
    "test_data = pd.concat([X_test, Y_test ], axis=1)"
   ]
  },
  {
   "attachments": {},
   "cell_type": "markdown",
   "metadata": {},
   "source": [
    "# Testing Giskard\n",
    "Let's use Giskard to explore the model and the dataset"
   ]
  },
  {
   "cell_type": "code",
   "execution_count": null,
   "metadata": {},
   "outputs": [],
   "source": [
    "from giskard import GiskardClient\n",
    "url = \"http://localhost:19000\" #if Giskard is installed locally (for installation, see: https://docs.giskard.ai/start/guides/installation)\n",
    "token = \"giskard_case_study\" #you can generate your API token in the Admin tab of the Giskard application (for installation, see: https://docs.giskard.ai/start/guides/installation)\n",
    "\n",
    "client = GiskardClient(url, token)\n",
    "\n",
    "# your_project = client.create_project(\"project_key\", \"PROJECT_NAME\", \"DESCRIPTION\")\n",
    "# Choose the arguments you want. But \"project_key\" should be unique and in lower case\n",
    "credit_scoring = client.create_project(\"credit_scoring\", \"German Credit Scoring\", \"Project to predict if user will default\")\n",
    "\n",
    "# If you've already created a project with the key \"credit-scoring\" use\n",
    "#credit_scoring = client.get_project(\"credit_scoring\")f"
   ]
  },
  {
   "cell_type": "code",
   "execution_count": null,
   "metadata": {},
   "outputs": [
    {
     "name": "stderr",
     "output_type": "stream",
     "text": [
      "/Users/juansmacbookair/Desktop/giskard/.venv/lib/python3.9/site-packages/giskard/client/project.py:664: UserWarning: Feature 'people_under_maintenance' is declared as 'numeric' but has 2 (<= nuniques_category=2) distinct values. Are you sure it is not a 'category' feature?\n",
      "  warning(\n"
     ]
    },
    {
     "name": "stdout",
     "output_type": "stream",
     "text": [
      "Dataset successfully uploaded to project key 'credit_scoring' with ID = 27. It is available at http://localhost:19000 \n",
      "Model successfully uploaded to project key 'credit_scoring' with ID = 28. It is available at http://localhost:19000 \n"
     ]
    },
    {
     "data": {
      "text/plain": [
       "(28, 27)"
      ]
     },
     "execution_count": 30,
     "metadata": {},
     "output_type": "execute_result"
    }
   ],
   "source": [
    "credit_scoring.upload_model_and_df(\n",
    "    prediction_function=clf_logistic_regression.predict_proba, # Python function which takes pandas dataframe as input and returns probabilities for classification model OR returns predictions for regression model\n",
    "    model_type='classification', # \"classification\" for classification model OR \"regression\" for regression model\n",
    "    df=test_data, # the dataset you want to use to inspect your model\n",
    "    column_types=column_types, # A dictionary with columns names of df as key and types(category, numeric, text) of columns as values\n",
    "    target='default', # The column name in df corresponding to the actual target variable (ground truth).\n",
    "    feature_names=list(feature_types.keys()), # List of the feature names of prediction_function\n",
    "    classification_labels=clf_logistic_regression.classes_ ,  # List of the classification labels of your prediction\n",
    "    model_name='logistic_regression_v1', # Name of the model\n",
    "    dataset_name='test_data' # Name of the dataset\n",
    ")"
   ]
  },
  {
   "cell_type": "code",
   "execution_count": null,
   "metadata": {},
   "outputs": [],
   "source": []
  }
 ],
 "metadata": {
  "kernelspec": {
   "display_name": "Python 3",
   "language": "python",
   "name": "python3"
  },
  "language_info": {
   "codemirror_mode": {
    "name": "ipython",
    "version": 3
   },
   "file_extension": ".py",
   "mimetype": "text/x-python",
   "name": "python",
   "nbconvert_exporter": "python",
   "pygments_lexer": "ipython3",
   "version": "3.9.6"
  }
 },
 "nbformat": 4,
 "nbformat_minor": 0
}
